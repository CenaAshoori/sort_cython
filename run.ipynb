{
 "cells": [
  {
   "cell_type": "code",
   "execution_count": null,
   "metadata": {},
   "outputs": [],
   "source": [
    "import sys\n",
    "import os\n",
    "from sort_c import bubblesort_caller\n",
    "from sort_cython import bubblesort as cy_sort\n",
    "from sort_python import bubblesort as py_sort\n",
    "\n",
    "import matplotlib.pyplot as plt\n",
    "import random\n",
    "import timeit\n",
    "import array\n",
    "import create_plot\n",
    "import numpy as np\n",
    "\n",
    "\n",
    "def compare_code(n: list):\n",
    "    t1, t2, t3 = [], [], []\n",
    "    ms_in_sec = 1000\n",
    "\n",
    "    for i in n:\n",
    "        unsort = [random.randint(0, i) for _ in range(i)]\n",
    "\n",
    "        arr1 = array.array('i', unsort)\n",
    "        dur = timeit.timeit(\n",
    "            lambda: bubblesort_caller.c_sort(arr1, i), number=1)\n",
    "        print(f\"C[{i}]:\", round(dur * ms_in_sec, 1), \"ms\")\n",
    "        t1.append(round(dur * ms_in_sec, 1))\n",
    "\n",
    "        dur = timeit.timeit(lambda: cy_sort.bubbleSort(arr1), number=1)\n",
    "        print(f\"Cython[{i}]:\", round(dur * ms_in_sec, 1), \"ms\")\n",
    "        t2.append(round(dur * ms_in_sec, 1))\n",
    "\n",
    "        dur = timeit.timeit(lambda: py_sort.bubbleSort(unsort), number=1)\n",
    "        print(f\"Python[{i}]:\", round(dur * ms_in_sec, 1), \"ms\")\n",
    "        t3.append(round(dur * ms_in_sec, 1))\n",
    "\n",
    "    create_plot.save_plot(n, (\"C\", \"Cython\", \"Python\"), (t1, t2, t3))\n",
    "\n",
    "\n",
    "# n = [100, 300, 400, ]\n",
    "# compare_code(n)\n",
    "n = [ 500, 1000, 2000,4000]\n",
    "compare_code(n)"
   ]
  }
 ],
 "metadata": {
  "language_info": {
   "name": "python"
  },
  "orig_nbformat": 4
 },
 "nbformat": 4,
 "nbformat_minor": 2
}
