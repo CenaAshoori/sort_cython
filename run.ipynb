{
 "cells": [
  {
   "cell_type": "code",
   "execution_count": 15,
   "metadata": {},
   "outputs": [],
   "source": [
    "def bsort(arr, size):\n",
    "    for i in range(size-1):\n",
    "        sorted = True\n",
    "        for j in range(size-i-1):\n",
    "            if arr[j] > arr[j+1]:\n",
    "                sorted = False\n",
    "                temp = arr[j+1]\n",
    "                arr[j+1] = arr[j]\n",
    "                arr[j] = temp\n",
    "        if sorted:\n",
    "            break"
   ]
  },
  {
   "cell_type": "code",
   "execution_count": 14,
   "metadata": {},
   "outputs": [
    {
     "ename": "ImportError",
     "evalue": "cannot import name 'bsort' from 'bubblesort' (u:\\VRU\\4001\\PLD\\Peoject\\sort_cython\\bubblesort.py)",
     "output_type": "error",
     "traceback": [
      "\u001b[1;31m---------------------------------------------------------------------------\u001b[0m",
      "\u001b[1;31mImportError\u001b[0m                               Traceback (most recent call last)",
      "\u001b[1;32m~\\AppData\\Local\\Temp/ipykernel_9392/2261371048.py\u001b[0m in \u001b[0;36m<module>\u001b[1;34m\u001b[0m\n\u001b[0;32m      1\u001b[0m \u001b[1;32mfrom\u001b[0m \u001b[0mtimeit\u001b[0m \u001b[1;32mimport\u001b[0m \u001b[0mtimeit\u001b[0m\u001b[1;33m\u001b[0m\u001b[1;33m\u001b[0m\u001b[0m\n\u001b[0;32m      2\u001b[0m \u001b[1;32mimport\u001b[0m \u001b[0mnumpy\u001b[0m \u001b[1;32mas\u001b[0m \u001b[0mnp\u001b[0m\u001b[1;33m\u001b[0m\u001b[1;33m\u001b[0m\u001b[0m\n\u001b[1;32m----> 3\u001b[1;33m \u001b[1;32mfrom\u001b[0m \u001b[0mbubblesort\u001b[0m \u001b[1;32mimport\u001b[0m \u001b[0mbsort\u001b[0m\u001b[1;33m\u001b[0m\u001b[1;33m\u001b[0m\u001b[0m\n\u001b[0m\u001b[0;32m      4\u001b[0m \u001b[0mms_in_sec\u001b[0m \u001b[1;33m=\u001b[0m \u001b[1;36m1000\u001b[0m\u001b[1;33m\u001b[0m\u001b[1;33m\u001b[0m\u001b[0m\n\u001b[0;32m      5\u001b[0m \u001b[1;33m\u001b[0m\u001b[0m\n",
      "\u001b[1;31mImportError\u001b[0m: cannot import name 'bsort' from 'bubblesort' (u:\\VRU\\4001\\PLD\\Peoject\\sort_cython\\bubblesort.py)"
     ]
    }
   ],
   "source": [
    "from timeit import timeit\n",
    "import numpy as np\n",
    "# from bubblesort import bsort\n",
    "ms_in_sec = 1000\n",
    "\n",
    "n=2\n",
    "a = [100,1002]\n",
    "\n",
    "dur = timeit(lambda: bsort(a.shape[0],n), number=1)\n",
    "print(\"fib:\", round(dur * ms_in_sec, 1), \"ms\")\n"
   ]
  },
  {
   "cell_type": "code",
   "execution_count": 17,
   "metadata": {},
   "outputs": [
    {
     "data": {
      "image/png": "[encoded data removed]",
      "text/plain": [
       "<Figure size 432x288 with 1 Axes>"
      ]
     },
     "metadata": {
      "needs_background": "light"
     },
     "output_type": "display_data"
    }
   ],
   "source": [
    "import matplotlib.pyplot as plt\n",
    "import numpy as np\n",
    "\n",
    "n = [2, 10, 100, 500, 1000]\n",
    "t = [0, 1 , 2, 3 ,4]\n",
    "\n",
    "\n",
    "x = np.linspace(0.1, 2 * np.pi, 41)\n",
    "y = np.exp(np.sin(x))\n",
    "\n",
    "plt.stem(n, t)\n",
    "plt.show()"
   ]
  },
  {
   "cell_type": "code",
   "execution_count": 137,
   "metadata": {},
   "outputs": [],
   "source": [
    "import matplotlib.pyplot as plt\n",
    "import matplotlib.colors \n",
    "from PIL import ImageColor\n",
    "import matplotlib.pyplot as plt\n",
    "import numpy as np\n",
    "\n",
    "def save_plot(palett ):\n",
    "    palett = list(map(lambda x:\"#\"+x.strip(),palett.split(\"#\")[1:]))\n",
    "    print(palett)\n",
    "    n = [2, 10, 100, 500, 1000]\n",
    "    n = list(map(lambda x:str(x),n))\n",
    "\n",
    "    t1 = [0, 1 , 2, 3 ,4]\n",
    "    t2 = [2, 4 , 5, 11 ,23]\n",
    "\n",
    "    width = .35      # the width of the bars: can also be len(x) sequence\n",
    "\n",
    "\n",
    "    for i in range(len(palett)):\n",
    "        fig, ax = plt.subplots()\n",
    "        \n",
    "        r,g,b = ImageColor.getcolor(palett[(i+3)%len(palett)], \"RGB\")\n",
    "        print (r,g,b)\n",
    "        yiq = ((r*299)+(g*587)+(b*114))/1000\n",
    "        text_color = \"black\" if yiq >= 128 else \"white\"\n",
    "        print(text_color)\n",
    "        plt.rcParams['text.color'] ='#{:02x}{:02x}{:02x}'.format(((255-r)%255), ((255-g)%255),((255-b)%255),)\n",
    "        plt.rcParams['xtick.color'] ='#{:02x}{:02x}{:02x}'.format(((255-r)%255), ((255-g)%255),((255-b)%255),)\n",
    "        plt.rcParams['ytick.color'] ='#{:02x}{:02x}{:02x}'.format(((255-r)%255), ((255-g)%255),((255-b)%255),)\n",
    "        # plt.rcParams['board.color'] ='#{:02x}{:02x}{:02x}'.format(((255-r)%255), ((255-g)%255),((255-b)%255),)\n",
    "        mokhalef = '#{:02x}{:02x}{:02x}'.format(((255-r)%255), ((255-g)%255),((255-b)%255),)\n",
    "        ax.spines[\"top\"].set_color(mokhalef)\n",
    "        ax.spines[\"right\"].set_color(mokhalef)\n",
    "        ax.spines[\"left\"].set_color(mokhalef)\n",
    "        ax.spines[\"bottom\"].set_color(mokhalef)\n",
    "        ax.spines[\"bottom\"].set_linestyle(\"-\")\n",
    "        \n",
    "        plt.rcParams['axes.labelcolor'] =mokhalef\n",
    "        ax.bar(n, t1, width,  label='Python',color=palett[i])\n",
    "\n",
    "        ax.bar(n, t2, width,  bottom=t1,\n",
    "            label='Cython',color=palett[(i+1)%len(palett)])\n",
    "\n",
    "        ax.set_ylabel('Execution Time')\n",
    "        ax.set_xlabel('Input')\n",
    "        ax.set_title('Runtime by input size')\n",
    "        ax.legend()\n",
    "\n",
    "        plt.savefig(\"png/output\"+f\"_{i}\", facecolor=palett[(i+2)%len(palett)], bbox_inches=\"tight\",\n",
    "                    pad_inches=0.3, transparent=True)\n",
    "    plt.show()"
   ]
  },
  {
   "cell_type": "code",
   "execution_count": null,
   "metadata": {},
   "outputs": [],
   "source": [
    "1\n",
    "#F5F5F5\n",
    "#F05454\n",
    "#30475E\n",
    "#121212\n",
    "\n",
    "2,3\n",
    "#064635\n",
    "#519259\n",
    "#F0BB62\n",
    "#F4EEA9\n",
    "\n",
    "4\n",
    "#3C5186\n",
    "#9B72AA\n",
    "#C6B4CE\n",
    "#FFF5DE\n",
    "5\n",
    "#440A67\n",
    "#93329E\n",
    "#B4AEE8\n",
    "#FFE3FE\n",
    "6\n",
    "#77D970\n",
    "#FF0075\n",
    "#172774\n",
    "#EEEEEE"
   ]
  },
  {
   "cell_type": "code",
   "execution_count": 138,
   "metadata": {},
   "outputs": [
    {
     "name": "stdout",
     "output_type": "stream",
     "text": [
      "['#FEE3EC', '#F9C5D5', '#F999B7', '#F2789F']\n",
      "242 120 159\n",
      "black\n",
      "254 227 236\n",
      "black\n",
      "249 197 213\n",
      "black\n",
      "249 153 183\n",
      "black\n"
     ]
    },
    {
     "data": {
      "image/png": "[encoded data removed]",
      "text/plain": [
       "<Figure size 432x288 with 1 Axes>"
      ]
     },
     "metadata": {
      "needs_background": "light"
     },
     "output_type": "display_data"
    },
    {
     "data": {
      "image/png": "[encoded data removed]",
      "text/plain": [
       "<Figure size 432x288 with 1 Axes>"
      ]
     },
     "metadata": {
      "needs_background": "light"
     },
     "output_type": "display_data"
    },
    {
     "data": {
      "image/png": "[encoded data removed]",
      "text/plain": [
       "<Figure size 432x288 with 1 Axes>"
      ]
     },
     "metadata": {
      "needs_background": "light"
     },
     "output_type": "display_data"
    },
    {
     "data": {
      "image/png": "[encoded data removed]",
      "text/plain": [
       "<Figure size 432x288 with 1 Axes>"
      ]
     },
     "metadata": {
      "needs_background": "light"
     },
     "output_type": "display_data"
    }
   ],
   "source": [
    "\n",
    "palett = \"\"\"\n",
    "#FEE3EC\n",
    "#F9C5D5\n",
    "#F999B7\n",
    "#F2789F\n",
    "\"\"\"\n",
    "save_plot(palett)"
   ]
  }
 ],
 "metadata": {
  "interpreter": {
   "hash": "c47529172fe57a45968e0b9e6f15d59b08b168ba4bd77e04686c2b1b435489a6"
  },
  "kernelspec": {
   "display_name": "Python 3.9.4 64-bit ('env': venv)",
   "language": "python",
   "name": "python3"
  },
  "language_info": {
   "codemirror_mode": {
    "name": "ipython",
    "version": 3
   },
   "file_extension": ".py",
   "mimetype": "text/x-python",
   "name": "python",
   "nbconvert_exporter": "python",
   "pygments_lexer": "ipython3",
   "version": "3.9.4"
  },
  "orig_nbformat": 4
 },
 "nbformat": 4,
 "nbformat_minor": 2
}
